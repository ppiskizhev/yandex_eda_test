{
 "cells": [
  {
   "cell_type": "markdown",
   "metadata": {},
   "source": [
    "###  Функции для генерации тестовых данных"
   ]
  },
  {
   "cell_type": "code",
   "execution_count": 10,
   "metadata": {},
   "outputs": [],
   "source": [
    "import random\n",
    "import pandas as pd\n",
    "\n",
    "def gen_float(start, stop):\n",
    "    return round(random.uniform(start, stop), 6)\n",
    "\n",
    "def generate_points(amount):\n",
    "    points_data = []\n",
    "\n",
    "    for i in range(amount):\n",
    "        lat = gen_float(55, 56)\n",
    "        lon = gen_float(37, 38)\n",
    "        points_data.append((i, lat, lon))\n",
    "\n",
    "    return pd.DataFrame(points_data, columns=['user_id', 'loc_lat', 'loc_lon'])\n",
    "\n",
    "def generate_polygons(amount):\n",
    "    polygons_data = []\n",
    "    \n",
    "    for i in range(amount):\n",
    "        ctr_lat = gen_float(55.51, 55.99)\n",
    "        ctr_lon = gen_float(37.51, 37.99)\n",
    "        \n",
    "        p1 = (i, gen_float(ctr_lat - 0.01, ctr_lat), gen_float(ctr_lon - 0.01, ctr_lon), 0)\n",
    "        p2 = (i, gen_float(ctr_lat, ctr_lat + 0.01), gen_float(ctr_lon - 0.01, ctr_lon), 1)\n",
    "        p3 = (i, gen_float(ctr_lat, ctr_lat + 0.01), gen_float(ctr_lon, ctr_lon + 0.01), 2)\n",
    "        p4 = (i, gen_float(ctr_lat - 0.01, ctr_lat), gen_float(ctr_lon, ctr_lon + 0.01), 3)\n",
    "        \n",
    "        polygons_data += [p1, p2, p3, p4]\n",
    "    \n",
    "    return pd.DataFrame(polygons_data, columns=['place_id', 'loc_lat', 'loc_lon', 'point_number'])"
   ]
  },
  {
   "cell_type": "code",
   "execution_count": 14,
   "metadata": {},
   "outputs": [],
   "source": [
    "points = generate_points(1200)\n",
    "polygons = generate_polygons(3000)\n",
    "\n",
    "points.to_csv('user_coordinates.csv', index=False)\n",
    "polygons.to_csv('place_zone_coordinates.csv', index=False)"
   ]
  }
 ],
 "metadata": {
  "kernelspec": {
   "display_name": "Python 3",
   "language": "python",
   "name": "python3"
  },
  "language_info": {
   "codemirror_mode": {
    "name": "ipython",
    "version": 3
   },
   "file_extension": ".py",
   "mimetype": "text/x-python",
   "name": "python",
   "nbconvert_exporter": "python",
   "pygments_lexer": "ipython3",
   "version": "3.8.3"
  }
 },
 "nbformat": 4,
 "nbformat_minor": 4
}
